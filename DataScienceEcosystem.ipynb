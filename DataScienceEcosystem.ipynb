{
 "cells": [
  {
   "cell_type": "raw",
   "id": "563f95c6-6aaf-4400-b07d-73fab0ab8ee6",
   "metadata": {
    "tags": []
   },
   "source": [
    "Exercício 2: Crie uma célula de markdown com o título do notebook\n",
    "\n",
    "Crie uma célula de marcação com o título Data Science Tools and Ecosystemusando o título de estilo H1."
   ]
  },
  {
   "cell_type": "markdown",
   "id": "eb366ee9-4cc0-41e1-8c01-88599809995c",
   "metadata": {},
   "source": [
    "# Data Science Tools and Ecosystem"
   ]
  },
  {
   "cell_type": "raw",
   "id": "9e70fe40-8360-4769-a2c3-bc3a3f80a683",
   "metadata": {},
   "source": [
    "Exercício 3 – Crie uma célula de markdown para uma introdução\n",
    "\n",
    "Escreva uma frase introdutória sobre o caderno como a seguinte:\n",
    "\n",
    "In this notebook, Data Science Tools and Ecosystem are summarized."
   ]
  },
  {
   "cell_type": "markdown",
   "id": "459e7e0c-42d4-4a7f-926f-2946c6cc1fa8",
   "metadata": {},
   "source": [
    "## Neste notebook, vamos apresentar as principais ferramentas da ciência de dados e ecossistema dele."
   ]
  },
  {
   "cell_type": "raw",
   "id": "6fb2069d-96d0-4e26-b48d-448dfeb97208",
   "metadata": {},
   "source": [
    "Exercício 10 - Insira uma célula de marcação para listar os Objetivos\n",
    "\n",
    "Abaixo da célula de introdução criada no Exercício 3, insira uma nova célula de marcação para listar os objetivos que este caderno cobriu (ou seja, algumas das principais conclusões do curso). Nesta nova célula, comece com uma linha introdutória intitulada: Objectives:em negrito. Em seguida, usando um unordered list(marcadores), indique de 3 a 5 itens abordados neste caderno, como List popular languages for Data Science."
   ]
  },
  {
   "cell_type": "markdown",
   "id": "c8efde11-22c9-4694-9b21-39c1f1ccd16a",
   "metadata": {},
   "source": [
    "**Objectives:**\n",
    "\n",
    "- Ferramentas populares da Ciência de Dados.\n",
    "- Linguagens populares da Ciência de Dados.\n",
    "- Bibliotecas comumente usadas por cientistas de dados.\n",
    "- Jupyter notebook e jupyter lab.\n",
    "- Rstudio e GitHub"
   ]
  },
  {
   "cell_type": "raw",
   "id": "3a0aa065-e43a-4062-8fff-ef650216a55c",
   "metadata": {},
   "source": [
    "Exercício 4 – Crie uma célula de marcação para listar linguagens de ciência de dados\n",
    "\n",
    "Comece a célula com uma linha de visão geral como:\n",
    "\n",
    "Some of the popular languages that Data Scientists use are:\n",
    "Em seguida, crie uma ordered listlista (ou seja, numerada) de 3 (ou mais) linguagens comumente usadas para ciência de dados."
   ]
  },
  {
   "cell_type": "markdown",
   "id": "693db125-e8bb-46a3-bcbb-b0e167005065",
   "metadata": {},
   "source": [
    "## Algumas das linguagens populares que os cientistas de dados usam são:\n",
    "# 1. Python\n",
    "# 2. R\n",
    "# 3. Julia\n",
    "# 4. Scala \n",
    "# 5. SQL"
   ]
  },
  {
   "cell_type": "raw",
   "id": "b44a0bb7-d16a-418a-9545-5561b3eb84bc",
   "metadata": {},
   "source": [
    "Exercício 5 – Crie uma célula markdown para listar bibliotecas de ciência de dados\n",
    "\n",
    "Adicione uma linha de visão geral à célula como:\n",
    "\n",
    "Some of the commonly used libraries used by Data Scientists include:\n",
    "Abaixo desta linha, adicione uma ordered listlistagem de 3 (ou mais) bibliotecas comumente usadas em ciência de dados."
   ]
  },
  {
   "cell_type": "markdown",
   "id": "953808c1-d14c-496c-b4f3-aa869aca0334",
   "metadata": {},
   "source": [
    "# Algumas das bibliotecas comumente usadas por cientistas de dados incluem:\n",
    "# 1. Pandas\n",
    "# 2. Numpy\n",
    "# 3. Matplotlib\n",
    "# 4. Seaborn\n",
    "# 5. Plotly\n",
    "# 6. SciPy\n",
    "# 7. NLTK \n",
    "# 8. dplyr\n",
    "# 9. ggplot2\n",
    "# 10. lattice\n",
    "# 11. caret\n"
   ]
  },
  {
   "cell_type": "raw",
   "id": "6ff1bb6c-3cee-44cf-bdee-a439b5360fbd",
   "metadata": {},
   "source": [
    "Exercício 6 - Crie uma célula de markdown com uma tabela de ferramentas de ciência de dados\n",
    "\n",
    "Crie uma tabela de coluna única nesta célula com a primeira linha contendo o cabeçalho Data Science Tools. As três linhas subsequentes da tabela devem indicar três ferramentas de código aberto do ambiente de desenvolvimento usadas na ciência de dados."
   ]
  },
  {
   "cell_type": "markdown",
   "id": "23e72f83-4d27-47f0-9ca8-0fda6152c6d5",
   "metadata": {},
   "source": [
    "| Ferramentas Ciência de Dados     |\n",
    "|------------------------|\n",
    "| Jupyter Notebooks      |\n",
    "| RStudio                |\n",
    "| VS Code with Python    |"
   ]
  },
  {
   "cell_type": "raw",
   "id": "21e7086a-6b01-4ec0-b39a-c8092b6c0b2d",
   "metadata": {},
   "source": [
    "Exercício 7 - Crie uma célula de markdown introduzindo exemplos de expressões aritméticas\n",
    "\n",
    "Adicione uma linha nesta célula com título de estilo H3 com texto como:\n",
    "\n",
    "Below are a few examples of evaluating arithmetic expressions in Python."
   ]
  },
  {
   "cell_type": "markdown",
   "id": "893c1b71-6c04-458b-b230-17b61f025635",
   "metadata": {},
   "source": [
    "### Abaixo estão alguns exemplos de avaliação de expressões aritméticas em Python."
   ]
  },
  {
   "cell_type": "raw",
   "id": "ac0d8fe7-8793-4b41-a85c-a50f58cf848c",
   "metadata": {},
   "source": [
    "Exercício 8 - Crie uma célula de código para multiplicar e somar números\n",
    "\n",
    "Nesta célula de código, avalie a expressão (3*4)+5.\n",
    "Insira uma linha de comentário antes da expressão para explicar a operação, por exemplo  This a simple arithmetic expression to mutiply then add integers.\n",
    "Em seguida, execute a célula para garantir que a expressão retorne a saída esperada de 17."
   ]
  },
  {
   "cell_type": "code",
   "execution_count": 1,
   "id": "1ac8d724-9cb8-4ae4-bdbc-f37def2f6f4b",
   "metadata": {
    "tags": []
   },
   "outputs": [
    {
     "name": "stdout",
     "output_type": "stream",
     "text": [
      "17\n"
     ]
    }
   ],
   "source": [
    "# Esta é uma expressão aritmética simples para multiplicar e depois adicionar números inteiros.\n",
    "calculo = (3 * 4) + 5\n",
    "print(calculo)"
   ]
  },
  {
   "cell_type": "raw",
   "id": "2fa6dc25-b4d9-4ece-924a-3ed97d37da6a",
   "metadata": {},
   "source": [
    "Exercício 9 – Crie uma célula de código para converter minutos em horas\n",
    "\n",
    "Nesta célula de código escreva uma expressão que seja convertida 200 minutesem hours.\n",
    "Insira uma linha de comentário antes da expressão para explicar a operação, por exemplo  This will convert 200 minutes to hours by diving by 60.\n",
    "Execute a célula para avaliar a expressão."
   ]
  },
  {
   "cell_type": "code",
   "execution_count": 2,
   "id": "3c7847a6-5df7-4f52-8356-494a8840c253",
   "metadata": {
    "tags": []
   },
   "outputs": [
    {
     "name": "stdout",
     "output_type": "stream",
     "text": [
      "3.3333333333333335\n"
     ]
    }
   ],
   "source": [
    "# Isso converterá 200 minutos em horas mergulhando 60.\n",
    "min = 200\n",
    "hora = 60\n",
    "tempo_em_horas = min/hora\n",
    "print(tempo_em_horas)"
   ]
  },
  {
   "cell_type": "raw",
   "id": "0e1f5d24-1de9-4e11-a072-fb0b43be3677",
   "metadata": {},
   "source": [
    "Exercício 11 - Crie uma célula markdown para indicar o nome do Autor\n",
    "\n",
    "Nesta célula de marcação, a célula de marcação inclui o seguinte texto Authorno formato H2 style heading. Inclua seu nametexto normal abaixo da palavra Author."
   ]
  },
  {
   "cell_type": "markdown",
   "id": "92adb15a-f531-4431-acf9-4b8fbc7d601a",
   "metadata": {},
   "source": [
    "## Autor\n",
    "Matheus Peretta de Abreu"
   ]
  },
  {
   "cell_type": "code",
   "execution_count": null,
   "id": "e6cff288-d9f4-466f-9dfd-796840fd6003",
   "metadata": {},
   "outputs": [],
   "source": []
  }
 ],
 "metadata": {
  "kernelspec": {
   "display_name": "Python",
   "language": "python",
   "name": "conda-env-python-py"
  },
  "language_info": {
   "codemirror_mode": {
    "name": "ipython",
    "version": 3
   },
   "file_extension": ".py",
   "mimetype": "text/x-python",
   "name": "python",
   "nbconvert_exporter": "python",
   "pygments_lexer": "ipython3",
   "version": "3.7.12"
  }
 },
 "nbformat": 4,
 "nbformat_minor": 5
}
